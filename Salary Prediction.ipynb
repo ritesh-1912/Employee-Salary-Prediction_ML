{
  "cells": [
    {
      "cell_type": "code",
      "execution_count": 1,
      "metadata": {
        "id": "ROkscZhcmecO"
      },
      "outputs": [],
      "source": [
        "#Employee Salary Prediction Project Notebook from 04/08"
      ]
    },
    {
      "cell_type": "code",
      "execution_count": 2,
      "metadata": {
        "colab": {
          "base_uri": "https://localhost:8080/"
        },
        "id": "_FSc7hnmUl8F",
        "outputId": "12f94de4-31cb-456d-cafb-16cfa7a1b796"
      },
      "outputs": [
        {
          "name": "stdout",
          "output_type": "stream",
          "text": [
            "   Employee_ID  Age  Gender   Department Job_Title  Years_at_Company  \\\n",
            "0            0   27    Male    Marketing   Manager                 9   \n",
            "1            1   53  Female        Sales  Engineer                10   \n",
            "2            2   59  Female    Marketing   Analyst                 8   \n",
            "3            3   42  Female  Engineering   Manager                 1   \n",
            "4            4   44  Female        Sales  Engineer                10   \n",
            "\n",
            "   Satisfaction_Level  Average_Monthly_Hours  Promotion_Last_5Years  Salary  \\\n",
            "0            0.586251                    151                      0   60132   \n",
            "1            0.261161                    221                      1   79947   \n",
            "2            0.304382                    184                      0   46958   \n",
            "3            0.480779                    242                      0   40662   \n",
            "4            0.636244                    229                      1   74307   \n",
            "\n",
            "   Attrition  \n",
            "0          0  \n",
            "1          0  \n",
            "2          1  \n",
            "3          0  \n",
            "4          0  \n"
          ]
        }
      ],
      "source": [
        "import pandas as pd\n",
        "df = pd.read_csv(\"employee_attrition_data.csv\")\n",
        "print(df.head())"
      ]
    },
    {
      "cell_type": "code",
      "execution_count": 3,
      "metadata": {
        "colab": {
          "base_uri": "https://localhost:8080/"
        },
        "id": "ij8jop_jU-Kq",
        "outputId": "6547ba7f-c73d-40a8-c06f-81061182724d"
      },
      "outputs": [
        {
          "name": "stdout",
          "output_type": "stream",
          "text": [
            "   Employee_ID  Age  Gender   Department      Job_Title  Years_at_Company  \\\n",
            "0            0   27    Male    Marketing        Manager                 9   \n",
            "1            1   53  Female        Sales       Engineer                10   \n",
            "2            2   59  Female    Marketing        Analyst                 8   \n",
            "3            3   42  Female  Engineering        Manager                 1   \n",
            "4            4   44  Female        Sales       Engineer                10   \n",
            "5            5   47    Male        Sales  HR Specialist                10   \n",
            "6            6   58    Male    Marketing  HR Specialist                 5   \n",
            "7            7   57  Female        Sales        Analyst                 8   \n",
            "8            8   34  Female      Finance     Accountant                 6   \n",
            "9            9   57  Female    Marketing       Engineer                 7   \n",
            "\n",
            "   Satisfaction_Level  Average_Monthly_Hours  Promotion_Last_5Years  Salary  \\\n",
            "0            0.586251                    151                      0   60132   \n",
            "1            0.261161                    221                      1   79947   \n",
            "2            0.304382                    184                      0   46958   \n",
            "3            0.480779                    242                      0   40662   \n",
            "4            0.636244                    229                      1   74307   \n",
            "5            0.889018                    237                      0   97212   \n",
            "6            0.688977                    155                      1   97865   \n",
            "7            0.981679                    171                      0   50113   \n",
            "8            0.010381                    177                      1   88747   \n",
            "9            0.466782                    170                      0   43283   \n",
            "\n",
            "   Attrition  \n",
            "0          0  \n",
            "1          0  \n",
            "2          1  \n",
            "3          0  \n",
            "4          0  \n",
            "5          0  \n",
            "6          0  \n",
            "7          0  \n",
            "8          1  \n",
            "9          0  \n"
          ]
        }
      ],
      "source": [
        "print(df.head(10))"
      ]
    },
    {
      "cell_type": "code",
      "execution_count": 4,
      "metadata": {
        "colab": {
          "base_uri": "https://localhost:8080/",
          "height": 272
        },
        "id": "pkXa9cFrViYl",
        "outputId": "8f3d5c15-c2bd-4ec0-e916-5f7a9f41b265"
      },
      "outputs": [
        {
          "name": "stdout",
          "output_type": "stream",
          "text": [
            "Index(['Employee_ID', 'Age', 'Gender', 'Department', 'Job_Title',\n",
            "       'Years_at_Company', 'Satisfaction_Level', 'Average_Monthly_Hours',\n",
            "       'Promotion_Last_5Years', 'Salary', 'Attrition'],\n",
            "      dtype='object')\n"
          ]
        },
        {
          "data": {
            "text/plain": [
              "<bound method DataFrame.info of      Employee_ID  Age  Gender   Department      Job_Title  Years_at_Company  \\\n",
              "0              0   27    Male    Marketing        Manager                 9   \n",
              "1              1   53  Female        Sales       Engineer                10   \n",
              "2              2   59  Female    Marketing        Analyst                 8   \n",
              "3              3   42  Female  Engineering        Manager                 1   \n",
              "4              4   44  Female        Sales       Engineer                10   \n",
              "..           ...  ...     ...          ...            ...               ...   \n",
              "995          995   39  Female           HR  HR Specialist                 3   \n",
              "996          996   50    Male  Engineering        Manager                 1   \n",
              "997          997   52    Male  Engineering        Analyst                 3   \n",
              "998          998   37  Female           HR  HR Specialist                 2   \n",
              "999          999   59    Male        Sales  HR Specialist                 1   \n",
              "\n",
              "     Satisfaction_Level  Average_Monthly_Hours  Promotion_Last_5Years  Salary  \\\n",
              "0              0.586251                    151                      0   60132   \n",
              "1              0.261161                    221                      1   79947   \n",
              "2              0.304382                    184                      0   46958   \n",
              "3              0.480779                    242                      0   40662   \n",
              "4              0.636244                    229                      1   74307   \n",
              "..                  ...                    ...                    ...     ...   \n",
              "995            0.377435                    239                      0   71403   \n",
              "996            0.431152                    154                      0   30181   \n",
              "997            0.647102                    206                      0   64143   \n",
              "998            0.304813                    241                      0   74383   \n",
              "999            0.940510                    159                      0   73220   \n",
              "\n",
              "     Attrition  \n",
              "0            0  \n",
              "1            0  \n",
              "2            1  \n",
              "3            0  \n",
              "4            0  \n",
              "..         ...  \n",
              "995          0  \n",
              "996          1  \n",
              "997          0  \n",
              "998          1  \n",
              "999          1  \n",
              "\n",
              "[1000 rows x 11 columns]>"
            ]
          },
          "execution_count": 4,
          "metadata": {},
          "output_type": "execute_result"
        }
      ],
      "source": [
        "print(df.columns)\n",
        "df.info"
      ]
    },
    {
      "cell_type": "code",
      "execution_count": 5,
      "metadata": {
        "colab": {
          "base_uri": "https://localhost:8080/",
          "height": 429
        },
        "id": "qlgnOQPpV_4W",
        "outputId": "1fd48b34-7884-4373-fc28-5d3042ed0899"
      },
      "outputs": [
        {
          "data": {
            "text/plain": [
              "Employee_ID              0\n",
              "Age                      0\n",
              "Gender                   0\n",
              "Department               0\n",
              "Job_Title                0\n",
              "Years_at_Company         0\n",
              "Satisfaction_Level       0\n",
              "Average_Monthly_Hours    0\n",
              "Promotion_Last_5Years    0\n",
              "Salary                   0\n",
              "Attrition                0\n",
              "dtype: int64"
            ]
          },
          "execution_count": 5,
          "metadata": {},
          "output_type": "execute_result"
        }
      ],
      "source": [
        "df.isna()\n",
        "df.isna().sum()"
      ]
    },
    {
      "cell_type": "code",
      "execution_count": 6,
      "metadata": {
        "colab": {
          "base_uri": "https://localhost:8080/"
        },
        "id": "393baa53",
        "outputId": "30fa0a01-d8be-4e86-ab71-095e11896b68"
      },
      "outputs": [
        {
          "name": "stdout",
          "output_type": "stream",
          "text": [
            "0\n"
          ]
        }
      ],
      "source": [
        "print(df.duplicated().sum())"
      ]
    },
    {
      "cell_type": "code",
      "execution_count": 7,
      "metadata": {
        "colab": {
          "base_uri": "https://localhost:8080/"
        },
        "id": "e62189a4",
        "outputId": "34ab29ea-9fd6-4dc4-8a2c-39c595d81a40"
      },
      "outputs": [
        {
          "name": "stdout",
          "output_type": "stream",
          "text": [
            "   Age  Gender   Department Job_Title  Years_at_Company  Satisfaction_Level  \\\n",
            "0   27    Male    Marketing   Manager                 9            0.586251   \n",
            "1   53  Female        Sales  Engineer                10            0.261161   \n",
            "2   59  Female    Marketing   Analyst                 8            0.304382   \n",
            "3   42  Female  Engineering   Manager                 1            0.480779   \n",
            "4   44  Female        Sales  Engineer                10            0.636244   \n",
            "\n",
            "   Average_Monthly_Hours  Promotion_Last_5Years  Salary  Attrition  \n",
            "0                    151                      0   60132          0  \n",
            "1                    221                      1   79947          0  \n",
            "2                    184                      0   46958          1  \n",
            "3                    242                      0   40662          0  \n",
            "4                    229                      1   74307          0  \n"
          ]
        }
      ],
      "source": [
        "# Replace 'column1', 'column2', etc. with the actual column names you want to drop\n",
        "df = df.drop(['Employee_ID'], axis=1)\n",
        "print(df.head())"
      ]
    },
    {
      "cell_type": "code",
      "execution_count": 8,
      "metadata": {
        "colab": {
          "base_uri": "https://localhost:8080/"
        },
        "id": "KGjFrjOhYbSr",
        "outputId": "b564bec2-152d-4d33-d461-ab96826699d3"
      },
      "outputs": [
        {
          "name": "stdout",
          "output_type": "stream",
          "text": [
            "   Age  Gender   Department Job_Title  Years_at_Company  Satisfaction_Level  \\\n",
            "0   27    Male    Marketing   Manager                 9            0.586251   \n",
            "1   53  Female        Sales  Engineer                10            0.261161   \n",
            "2   59  Female    Marketing   Analyst                 8            0.304382   \n",
            "3   42  Female  Engineering   Manager                 1            0.480779   \n",
            "4   44  Female        Sales  Engineer                10            0.636244   \n",
            "\n",
            "   Average_Monthly_Hours  Promotion_Last_5Years  Salary  Attrition  \n",
            "0                    151                      0   60132          0  \n",
            "1                    221                      1   79947          0  \n",
            "2                    184                      0   46958          1  \n",
            "3                    242                      0   40662          0  \n",
            "4                    229                      1   74307          0  \n"
          ]
        }
      ],
      "source": [
        "#df.drop(axis=1, columns=['Employee_ID'])\n",
        "print(df.head())"
      ]
    },
    {
      "cell_type": "code",
      "execution_count": 9,
      "metadata": {
        "colab": {
          "base_uri": "https://localhost:8080/"
        },
        "id": "xsHAasREY0l1",
        "outputId": "ff9c4a9e-041a-4f3a-cad9-e12fa7d35de4"
      },
      "outputs": [
        {
          "name": "stdout",
          "output_type": "stream",
          "text": [
            "Requirement already satisfied: matplotlib in c:\\users\\ritesh\\anaconda3\\lib\\site-packages (3.5.2)\n",
            "Requirement already satisfied: pyparsing>=2.2.1 in c:\\users\\ritesh\\anaconda3\\lib\\site-packages (from matplotlib) (3.0.9)\n",
            "Requirement already satisfied: pillow>=6.2.0 in c:\\users\\ritesh\\anaconda3\\lib\\site-packages (from matplotlib) (9.2.0)\n",
            "Requirement already satisfied: kiwisolver>=1.0.1 in c:\\users\\ritesh\\anaconda3\\lib\\site-packages (from matplotlib) (1.4.2)\n",
            "Requirement already satisfied: cycler>=0.10 in c:\\users\\ritesh\\anaconda3\\lib\\site-packages (from matplotlib) (0.11.0)\n",
            "Requirement already satisfied: fonttools>=4.22.0 in c:\\users\\ritesh\\anaconda3\\lib\\site-packages (from matplotlib) (4.25.0)\n",
            "Requirement already satisfied: python-dateutil>=2.7 in c:\\users\\ritesh\\anaconda3\\lib\\site-packages (from matplotlib) (2.8.2)\n",
            "Requirement already satisfied: numpy>=1.17 in c:\\users\\ritesh\\anaconda3\\lib\\site-packages (from matplotlib) (1.21.5)\n",
            "Requirement already satisfied: packaging>=20.0 in c:\\users\\ritesh\\anaconda3\\lib\\site-packages (from matplotlib) (21.3)\n",
            "Requirement already satisfied: six>=1.5 in c:\\users\\ritesh\\anaconda3\\lib\\site-packages (from python-dateutil>=2.7->matplotlib) (1.16.0)\n",
            "Note: you may need to restart the kernel to use updated packages.\n"
          ]
        }
      ],
      "source": [
        "%pip install matplotlib"
      ]
    },
    {
      "cell_type": "code",
      "execution_count": 10,
      "metadata": {
        "colab": {
          "base_uri": "https://localhost:8080/",
          "height": 428
        },
        "id": "2Lz3uLbDZaL9",
        "outputId": "6fc9f306-d17e-495b-852c-35560f110816"
      },
      "outputs": [
        {
          "data": {
            "image/png": "[encoded data removed]",
            "text/plain": [
              "<Figure size 640x480 with 1 Axes>"
            ]
          },
          "metadata": {},
          "output_type": "display_data"
        }
      ],
      "source": [
        "import matplotlib.pyplot as plt\n",
        "\n",
        "df[\"Gender\"].value_counts().plot(kind=\"pie\")\n",
        "plt.ylabel(\"\")\n",
        "plt.title(\"Gender Count of employee\")\n",
        "plt.show()"
      ]
    },
    {
      "cell_type": "code",
      "execution_count": 11,
      "metadata": {
        "colab": {
          "base_uri": "https://localhost:8080/",
          "height": 428
        },
        "id": "hcMFW56Iajyo",
        "outputId": "32aa0805-62ec-4ea8-f92f-9731cabd8c63"
      },
      "outputs": [
        {
          "data": {
            "image/png": "[encoded data removed]",
            "text/plain": [
              "<Figure size 640x480 with 1 Axes>"
            ]
          },
          "metadata": {},
          "output_type": "display_data"
        }
      ],
      "source": [
        "import matplotlib.pyplot as plt\n",
        "\n",
        "df[\"Age\"].value_counts().plot(kind=\"pie\")\n",
        "plt.ylabel(\"\")\n",
        "plt.title(\"Age Count of employee\")\n",
        "plt.show()"
      ]
    },
    {
      "cell_type": "code",
      "execution_count": 12,
      "metadata": {
        "colab": {
          "base_uri": "https://localhost:8080/",
          "height": 206
        },
        "id": "zcAiMWUHbOZX",
        "outputId": "96132298-12ee-4852-b459-bd460a5914a8"
      },
      "outputs": [
        {
          "data": {
            "text/html": [
              "<div>\n",
              "<style scoped>\n",
              "    .dataframe tbody tr th:only-of-type {\n",
              "        vertical-align: middle;\n",
              "    }\n",
              "\n",
              "    .dataframe tbody tr th {\n",
              "        vertical-align: top;\n",
              "    }\n",
              "\n",
              "    .dataframe thead th {\n",
              "        text-align: right;\n",
              "    }\n",
              "</style>\n",
              "<table border=\"1\" class=\"dataframe\">\n",
              "  <thead>\n",
              "    <tr style=\"text-align: right;\">\n",
              "      <th></th>\n",
              "      <th>Age</th>\n",
              "      <th>Gender</th>\n",
              "      <th>Department</th>\n",
              "      <th>Job_Title</th>\n",
              "      <th>Years_at_Company</th>\n",
              "      <th>Satisfaction_Level</th>\n",
              "      <th>Average_Monthly_Hours</th>\n",
              "      <th>Promotion_Last_5Years</th>\n",
              "      <th>Salary</th>\n",
              "      <th>Attrition</th>\n",
              "    </tr>\n",
              "  </thead>\n",
              "  <tbody>\n",
              "    <tr>\n",
              "      <th>0</th>\n",
              "      <td>27</td>\n",
              "      <td>Male</td>\n",
              "      <td>Marketing</td>\n",
              "      <td>Manager</td>\n",
              "      <td>9</td>\n",
              "      <td>0.586251</td>\n",
              "      <td>151</td>\n",
              "      <td>0</td>\n",
              "      <td>60132</td>\n",
              "      <td>0</td>\n",
              "    </tr>\n",
              "    <tr>\n",
              "      <th>1</th>\n",
              "      <td>53</td>\n",
              "      <td>Female</td>\n",
              "      <td>Sales</td>\n",
              "      <td>Engineer</td>\n",
              "      <td>10</td>\n",
              "      <td>0.261161</td>\n",
              "      <td>221</td>\n",
              "      <td>1</td>\n",
              "      <td>79947</td>\n",
              "      <td>0</td>\n",
              "    </tr>\n",
              "    <tr>\n",
              "      <th>2</th>\n",
              "      <td>59</td>\n",
              "      <td>Female</td>\n",
              "      <td>Marketing</td>\n",
              "      <td>Analyst</td>\n",
              "      <td>8</td>\n",
              "      <td>0.304382</td>\n",
              "      <td>184</td>\n",
              "      <td>0</td>\n",
              "      <td>46958</td>\n",
              "      <td>1</td>\n",
              "    </tr>\n",
              "    <tr>\n",
              "      <th>3</th>\n",
              "      <td>42</td>\n",
              "      <td>Female</td>\n",
              "      <td>Engineering</td>\n",
              "      <td>Manager</td>\n",
              "      <td>1</td>\n",
              "      <td>0.480779</td>\n",
              "      <td>242</td>\n",
              "      <td>0</td>\n",
              "      <td>40662</td>\n",
              "      <td>0</td>\n",
              "    </tr>\n",
              "    <tr>\n",
              "      <th>4</th>\n",
              "      <td>44</td>\n",
              "      <td>Female</td>\n",
              "      <td>Sales</td>\n",
              "      <td>Engineer</td>\n",
              "      <td>10</td>\n",
              "      <td>0.636244</td>\n",
              "      <td>229</td>\n",
              "      <td>1</td>\n",
              "      <td>74307</td>\n",
              "      <td>0</td>\n",
              "    </tr>\n",
              "  </tbody>\n",
              "</table>\n",
              "</div>"
            ],
            "text/plain": [
              "   Age  Gender   Department Job_Title  Years_at_Company  Satisfaction_Level  \\\n",
              "0   27    Male    Marketing   Manager                 9            0.586251   \n",
              "1   53  Female        Sales  Engineer                10            0.261161   \n",
              "2   59  Female    Marketing   Analyst                 8            0.304382   \n",
              "3   42  Female  Engineering   Manager                 1            0.480779   \n",
              "4   44  Female        Sales  Engineer                10            0.636244   \n",
              "\n",
              "   Average_Monthly_Hours  Promotion_Last_5Years  Salary  Attrition  \n",
              "0                    151                      0   60132          0  \n",
              "1                    221                      1   79947          0  \n",
              "2                    184                      0   46958          1  \n",
              "3                    242                      0   40662          0  \n",
              "4                    229                      1   74307          0  "
            ]
          },
          "execution_count": 12,
          "metadata": {},
          "output_type": "execute_result"
        }
      ],
      "source": [
        "df.head()"
      ]
    },
    {
      "cell_type": "code",
      "execution_count": 13,
      "metadata": {
        "colab": {
          "base_uri": "https://localhost:8080/",
          "height": 472
        },
        "id": "ajho94m8bTdJ",
        "outputId": "1c6c2ef2-3e5b-4f14-f5e9-8c1363ca7f27"
      },
      "outputs": [
        {
          "data": {
            "image/png": "[encoded data removed]",
            "text/plain": [
              "<Figure size 640x480 with 1 Axes>"
            ]
          },
          "metadata": {},
          "output_type": "display_data"
        }
      ],
      "source": [
        "df.groupby(\"Job_Title\")[\"Salary\"].mean().sort_values(ascending=False).plot(kind=\"line\")\n",
        "plt.title(\"Average Salary by Job Title\")\n",
        "plt.xlabel(\"Job Title\")\n",
        "plt.ylabel(\"Average Salary\")\n",
        "plt.show()"
      ]
    },
    {
      "cell_type": "code",
      "execution_count": 14,
      "metadata": {
        "colab": {
          "base_uri": "https://localhost:8080/",
          "height": 363
        },
        "id": "gqvg5BGVdS5p",
        "outputId": "1e8b32e4-08fd-4b9e-af71-872aa357cb46"
      },
      "outputs": [
        {
          "data": {
            "text/html": [
              "<div>\n",
              "<style scoped>\n",
              "    .dataframe tbody tr th:only-of-type {\n",
              "        vertical-align: middle;\n",
              "    }\n",
              "\n",
              "    .dataframe tbody tr th {\n",
              "        vertical-align: top;\n",
              "    }\n",
              "\n",
              "    .dataframe thead th {\n",
              "        text-align: right;\n",
              "    }\n",
              "</style>\n",
              "<table border=\"1\" class=\"dataframe\">\n",
              "  <thead>\n",
              "    <tr style=\"text-align: right;\">\n",
              "      <th></th>\n",
              "      <th>Department</th>\n",
              "      <th>Promotion_Last_5Years</th>\n",
              "      <th>Salary</th>\n",
              "    </tr>\n",
              "  </thead>\n",
              "  <tbody>\n",
              "    <tr>\n",
              "      <th>0</th>\n",
              "      <td>Engineering</td>\n",
              "      <td>0</td>\n",
              "      <td>65541.063636</td>\n",
              "    </tr>\n",
              "    <tr>\n",
              "      <th>1</th>\n",
              "      <td>Engineering</td>\n",
              "      <td>1</td>\n",
              "      <td>62424.127660</td>\n",
              "    </tr>\n",
              "    <tr>\n",
              "      <th>2</th>\n",
              "      <td>Finance</td>\n",
              "      <td>0</td>\n",
              "      <td>63390.145299</td>\n",
              "    </tr>\n",
              "    <tr>\n",
              "      <th>3</th>\n",
              "      <td>Finance</td>\n",
              "      <td>1</td>\n",
              "      <td>62041.269663</td>\n",
              "    </tr>\n",
              "    <tr>\n",
              "      <th>4</th>\n",
              "      <td>HR</td>\n",
              "      <td>0</td>\n",
              "      <td>63012.556701</td>\n",
              "    </tr>\n",
              "    <tr>\n",
              "      <th>5</th>\n",
              "      <td>HR</td>\n",
              "      <td>1</td>\n",
              "      <td>65882.861702</td>\n",
              "    </tr>\n",
              "    <tr>\n",
              "      <th>6</th>\n",
              "      <td>Marketing</td>\n",
              "      <td>0</td>\n",
              "      <td>65251.597826</td>\n",
              "    </tr>\n",
              "    <tr>\n",
              "      <th>7</th>\n",
              "      <td>Marketing</td>\n",
              "      <td>1</td>\n",
              "      <td>66018.632653</td>\n",
              "    </tr>\n",
              "    <tr>\n",
              "      <th>8</th>\n",
              "      <td>Sales</td>\n",
              "      <td>0</td>\n",
              "      <td>64295.846939</td>\n",
              "    </tr>\n",
              "    <tr>\n",
              "      <th>9</th>\n",
              "      <td>Sales</td>\n",
              "      <td>1</td>\n",
              "      <td>67838.756757</td>\n",
              "    </tr>\n",
              "  </tbody>\n",
              "</table>\n",
              "</div>"
            ],
            "text/plain": [
              "    Department  Promotion_Last_5Years        Salary\n",
              "0  Engineering                      0  65541.063636\n",
              "1  Engineering                      1  62424.127660\n",
              "2      Finance                      0  63390.145299\n",
              "3      Finance                      1  62041.269663\n",
              "4           HR                      0  63012.556701\n",
              "5           HR                      1  65882.861702\n",
              "6    Marketing                      0  65251.597826\n",
              "7    Marketing                      1  66018.632653\n",
              "8        Sales                      0  64295.846939\n",
              "9        Sales                      1  67838.756757"
            ]
          },
          "execution_count": 14,
          "metadata": {},
          "output_type": "execute_result"
        }
      ],
      "source": [
        "df.groupby([\"Department\",\"Promotion_Last_5Years\"])[\"Salary\"].mean().reset_index()"
      ]
    },
    {
      "cell_type": "code",
      "execution_count": 15,
      "metadata": {
        "colab": {
          "base_uri": "https://localhost:8080/",
          "height": 206
        },
        "id": "p0O-Te3xeQF0",
        "outputId": "b361fa40-3206-4b7b-b3c0-0cbaeae856a6"
      },
      "outputs": [
        {
          "data": {
            "text/html": [
              "<div>\n",
              "<style scoped>\n",
              "    .dataframe tbody tr th:only-of-type {\n",
              "        vertical-align: middle;\n",
              "    }\n",
              "\n",
              "    .dataframe tbody tr th {\n",
              "        vertical-align: top;\n",
              "    }\n",
              "\n",
              "    .dataframe thead th {\n",
              "        text-align: right;\n",
              "    }\n",
              "</style>\n",
              "<table border=\"1\" class=\"dataframe\">\n",
              "  <thead>\n",
              "    <tr style=\"text-align: right;\">\n",
              "      <th></th>\n",
              "      <th>Age</th>\n",
              "      <th>Gender</th>\n",
              "      <th>Department</th>\n",
              "      <th>Job_Title</th>\n",
              "      <th>Years_at_Company</th>\n",
              "      <th>Satisfaction_Level</th>\n",
              "      <th>Average_Monthly_Hours</th>\n",
              "      <th>Promotion_Last_5Years</th>\n",
              "      <th>Salary</th>\n",
              "      <th>Attrition</th>\n",
              "    </tr>\n",
              "  </thead>\n",
              "  <tbody>\n",
              "    <tr>\n",
              "      <th>0</th>\n",
              "      <td>27</td>\n",
              "      <td>Male</td>\n",
              "      <td>Marketing</td>\n",
              "      <td>Manager</td>\n",
              "      <td>9</td>\n",
              "      <td>0.586251</td>\n",
              "      <td>151</td>\n",
              "      <td>0</td>\n",
              "      <td>60132</td>\n",
              "      <td>0</td>\n",
              "    </tr>\n",
              "    <tr>\n",
              "      <th>1</th>\n",
              "      <td>53</td>\n",
              "      <td>Female</td>\n",
              "      <td>Sales</td>\n",
              "      <td>Engineer</td>\n",
              "      <td>10</td>\n",
              "      <td>0.261161</td>\n",
              "      <td>221</td>\n",
              "      <td>1</td>\n",
              "      <td>79947</td>\n",
              "      <td>0</td>\n",
              "    </tr>\n",
              "    <tr>\n",
              "      <th>2</th>\n",
              "      <td>59</td>\n",
              "      <td>Female</td>\n",
              "      <td>Marketing</td>\n",
              "      <td>Analyst</td>\n",
              "      <td>8</td>\n",
              "      <td>0.304382</td>\n",
              "      <td>184</td>\n",
              "      <td>0</td>\n",
              "      <td>46958</td>\n",
              "      <td>1</td>\n",
              "    </tr>\n",
              "    <tr>\n",
              "      <th>3</th>\n",
              "      <td>42</td>\n",
              "      <td>Female</td>\n",
              "      <td>Engineering</td>\n",
              "      <td>Manager</td>\n",
              "      <td>1</td>\n",
              "      <td>0.480779</td>\n",
              "      <td>242</td>\n",
              "      <td>0</td>\n",
              "      <td>40662</td>\n",
              "      <td>0</td>\n",
              "    </tr>\n",
              "    <tr>\n",
              "      <th>4</th>\n",
              "      <td>44</td>\n",
              "      <td>Female</td>\n",
              "      <td>Sales</td>\n",
              "      <td>Engineer</td>\n",
              "      <td>10</td>\n",
              "      <td>0.636244</td>\n",
              "      <td>229</td>\n",
              "      <td>1</td>\n",
              "      <td>74307</td>\n",
              "      <td>0</td>\n",
              "    </tr>\n",
              "  </tbody>\n",
              "</table>\n",
              "</div>"
            ],
            "text/plain": [
              "   Age  Gender   Department Job_Title  Years_at_Company  Satisfaction_Level  \\\n",
              "0   27    Male    Marketing   Manager                 9            0.586251   \n",
              "1   53  Female        Sales  Engineer                10            0.261161   \n",
              "2   59  Female    Marketing   Analyst                 8            0.304382   \n",
              "3   42  Female  Engineering   Manager                 1            0.480779   \n",
              "4   44  Female        Sales  Engineer                10            0.636244   \n",
              "\n",
              "   Average_Monthly_Hours  Promotion_Last_5Years  Salary  Attrition  \n",
              "0                    151                      0   60132          0  \n",
              "1                    221                      1   79947          0  \n",
              "2                    184                      0   46958          1  \n",
              "3                    242                      0   40662          0  \n",
              "4                    229                      1   74307          0  "
            ]
          },
          "execution_count": 15,
          "metadata": {},
          "output_type": "execute_result"
        }
      ],
      "source": [
        "df.head()"
      ]
    },
    {
      "cell_type": "code",
      "execution_count": 16,
      "metadata": {
        "colab": {
          "base_uri": "https://localhost:8080/",
          "height": 300
        },
        "id": "TQhP2GDneUTm",
        "outputId": "2a1b2f18-040a-4e94-9532-bd2d17b40b38"
      },
      "outputs": [
        {
          "data": {
            "text/html": [
              "<div>\n",
              "<style scoped>\n",
              "    .dataframe tbody tr th:only-of-type {\n",
              "        vertical-align: middle;\n",
              "    }\n",
              "\n",
              "    .dataframe tbody tr th {\n",
              "        vertical-align: top;\n",
              "    }\n",
              "\n",
              "    .dataframe thead th {\n",
              "        text-align: right;\n",
              "    }\n",
              "</style>\n",
              "<table border=\"1\" class=\"dataframe\">\n",
              "  <thead>\n",
              "    <tr style=\"text-align: right;\">\n",
              "      <th></th>\n",
              "      <th>Age</th>\n",
              "      <th>Years_at_Company</th>\n",
              "      <th>Satisfaction_Level</th>\n",
              "      <th>Average_Monthly_Hours</th>\n",
              "      <th>Promotion_Last_5Years</th>\n",
              "      <th>Salary</th>\n",
              "      <th>Attrition</th>\n",
              "    </tr>\n",
              "  </thead>\n",
              "  <tbody>\n",
              "    <tr>\n",
              "      <th>count</th>\n",
              "      <td>1000.000000</td>\n",
              "      <td>1000.000000</td>\n",
              "      <td>1000.000000</td>\n",
              "      <td>1000.000000</td>\n",
              "      <td>1000.000000</td>\n",
              "      <td>1000.000000</td>\n",
              "      <td>1000.000000</td>\n",
              "    </tr>\n",
              "    <tr>\n",
              "      <th>mean</th>\n",
              "      <td>42.205000</td>\n",
              "      <td>5.605000</td>\n",
              "      <td>0.505995</td>\n",
              "      <td>199.493000</td>\n",
              "      <td>0.486000</td>\n",
              "      <td>64624.980000</td>\n",
              "      <td>0.495000</td>\n",
              "    </tr>\n",
              "    <tr>\n",
              "      <th>std</th>\n",
              "      <td>10.016452</td>\n",
              "      <td>2.822223</td>\n",
              "      <td>0.289797</td>\n",
              "      <td>29.631908</td>\n",
              "      <td>0.500054</td>\n",
              "      <td>20262.984333</td>\n",
              "      <td>0.500225</td>\n",
              "    </tr>\n",
              "    <tr>\n",
              "      <th>min</th>\n",
              "      <td>25.000000</td>\n",
              "      <td>1.000000</td>\n",
              "      <td>0.001376</td>\n",
              "      <td>150.000000</td>\n",
              "      <td>0.000000</td>\n",
              "      <td>30099.000000</td>\n",
              "      <td>0.000000</td>\n",
              "    </tr>\n",
              "    <tr>\n",
              "      <th>25%</th>\n",
              "      <td>33.000000</td>\n",
              "      <td>3.000000</td>\n",
              "      <td>0.258866</td>\n",
              "      <td>173.000000</td>\n",
              "      <td>0.000000</td>\n",
              "      <td>47613.500000</td>\n",
              "      <td>0.000000</td>\n",
              "    </tr>\n",
              "    <tr>\n",
              "      <th>50%</th>\n",
              "      <td>43.000000</td>\n",
              "      <td>6.000000</td>\n",
              "      <td>0.505675</td>\n",
              "      <td>201.000000</td>\n",
              "      <td>0.000000</td>\n",
              "      <td>64525.000000</td>\n",
              "      <td>0.000000</td>\n",
              "    </tr>\n",
              "    <tr>\n",
              "      <th>75%</th>\n",
              "      <td>51.000000</td>\n",
              "      <td>8.000000</td>\n",
              "      <td>0.761135</td>\n",
              "      <td>225.000000</td>\n",
              "      <td>1.000000</td>\n",
              "      <td>81921.000000</td>\n",
              "      <td>1.000000</td>\n",
              "    </tr>\n",
              "    <tr>\n",
              "      <th>max</th>\n",
              "      <td>59.000000</td>\n",
              "      <td>10.000000</td>\n",
              "      <td>0.999979</td>\n",
              "      <td>249.000000</td>\n",
              "      <td>1.000000</td>\n",
              "      <td>99991.000000</td>\n",
              "      <td>1.000000</td>\n",
              "    </tr>\n",
              "  </tbody>\n",
              "</table>\n",
              "</div>"
            ],
            "text/plain": [
              "               Age  Years_at_Company  Satisfaction_Level  \\\n",
              "count  1000.000000       1000.000000         1000.000000   \n",
              "mean     42.205000          5.605000            0.505995   \n",
              "std      10.016452          2.822223            0.289797   \n",
              "min      25.000000          1.000000            0.001376   \n",
              "25%      33.000000          3.000000            0.258866   \n",
              "50%      43.000000          6.000000            0.505675   \n",
              "75%      51.000000          8.000000            0.761135   \n",
              "max      59.000000         10.000000            0.999979   \n",
              "\n",
              "       Average_Monthly_Hours  Promotion_Last_5Years        Salary    Attrition  \n",
              "count            1000.000000            1000.000000   1000.000000  1000.000000  \n",
              "mean              199.493000               0.486000  64624.980000     0.495000  \n",
              "std                29.631908               0.500054  20262.984333     0.500225  \n",
              "min               150.000000               0.000000  30099.000000     0.000000  \n",
              "25%               173.000000               0.000000  47613.500000     0.000000  \n",
              "50%               201.000000               0.000000  64525.000000     0.000000  \n",
              "75%               225.000000               1.000000  81921.000000     1.000000  \n",
              "max               249.000000               1.000000  99991.000000     1.000000  "
            ]
          },
          "execution_count": 16,
          "metadata": {},
          "output_type": "execute_result"
        }
      ],
      "source": [
        "df.describe()"
      ]
    },
    {
      "cell_type": "code",
      "execution_count": 17,
      "metadata": {
        "id": "BJhytLHGe_E2"
      },
      "outputs": [],
      "source": [
        "x = df[[\"Years_at_Company\",\"Satisfaction_Level\",\"Average_Monthly_Hours\"]]\n",
        "y = df[\"Salary\"]"
      ]
    },
    {
      "cell_type": "code",
      "execution_count": 18,
      "metadata": {
        "colab": {
          "base_uri": "https://localhost:8080/"
        },
        "id": "0j0qwz-CfsLk",
        "outputId": "85e6658a-85a4-47e3-9721-081bb624be51"
      },
      "outputs": [
        {
          "name": "stdout",
          "output_type": "stream",
          "text": [
            "Requirement already satisfied: scikit-learn in c:\\users\\ritesh\\anaconda3\\lib\\site-packages (1.0.2)\n",
            "Requirement already satisfied: joblib>=0.11 in c:\\users\\ritesh\\anaconda3\\lib\\site-packages (from scikit-learn) (1.1.0)\n",
            "Requirement already satisfied: threadpoolctl>=2.0.0 in c:\\users\\ritesh\\anaconda3\\lib\\site-packages (from scikit-learn) (2.2.0)\n",
            "Requirement already satisfied: numpy>=1.14.6 in c:\\users\\ritesh\\anaconda3\\lib\\site-packages (from scikit-learn) (1.21.5)\n",
            "Requirement already satisfied: scipy>=1.1.0 in c:\\users\\ritesh\\anaconda3\\lib\\site-packages (from scikit-learn) (1.9.1)\n",
            "Note: you may need to restart the kernel to use updated packages.\n"
          ]
        }
      ],
      "source": [
        "%pip install scikit-learn"
      ]
    },
    {
      "cell_type": "code",
      "execution_count": 19,
      "metadata": {
        "id": "LFzOMvTPgnED"
      },
      "outputs": [],
      "source": [
        "from sklearn.model_selection import train_test_split\n",
        "X_train, X_test, y_train, y_test = train_test_split(x,y,test_size=0.2)"
      ]
    },
    {
      "cell_type": "code",
      "execution_count": 20,
      "metadata": {
        "colab": {
          "base_uri": "https://localhost:8080/",
          "height": 423
        },
        "id": "wmyBfjfgg9uf",
        "outputId": "a6b02e53-67ce-4b78-8027-404b49ea610c"
      },
      "outputs": [
        {
          "data": {
            "text/html": [
              "<div>\n",
              "<style scoped>\n",
              "    .dataframe tbody tr th:only-of-type {\n",
              "        vertical-align: middle;\n",
              "    }\n",
              "\n",
              "    .dataframe tbody tr th {\n",
              "        vertical-align: top;\n",
              "    }\n",
              "\n",
              "    .dataframe thead th {\n",
              "        text-align: right;\n",
              "    }\n",
              "</style>\n",
              "<table border=\"1\" class=\"dataframe\">\n",
              "  <thead>\n",
              "    <tr style=\"text-align: right;\">\n",
              "      <th></th>\n",
              "      <th>Years_at_Company</th>\n",
              "      <th>Satisfaction_Level</th>\n",
              "      <th>Average_Monthly_Hours</th>\n",
              "    </tr>\n",
              "  </thead>\n",
              "  <tbody>\n",
              "    <tr>\n",
              "      <th>0</th>\n",
              "      <td>9</td>\n",
              "      <td>0.586251</td>\n",
              "      <td>151</td>\n",
              "    </tr>\n",
              "    <tr>\n",
              "      <th>1</th>\n",
              "      <td>10</td>\n",
              "      <td>0.261161</td>\n",
              "      <td>221</td>\n",
              "    </tr>\n",
              "    <tr>\n",
              "      <th>2</th>\n",
              "      <td>8</td>\n",
              "      <td>0.304382</td>\n",
              "      <td>184</td>\n",
              "    </tr>\n",
              "    <tr>\n",
              "      <th>3</th>\n",
              "      <td>1</td>\n",
              "      <td>0.480779</td>\n",
              "      <td>242</td>\n",
              "    </tr>\n",
              "    <tr>\n",
              "      <th>4</th>\n",
              "      <td>10</td>\n",
              "      <td>0.636244</td>\n",
              "      <td>229</td>\n",
              "    </tr>\n",
              "    <tr>\n",
              "      <th>...</th>\n",
              "      <td>...</td>\n",
              "      <td>...</td>\n",
              "      <td>...</td>\n",
              "    </tr>\n",
              "    <tr>\n",
              "      <th>995</th>\n",
              "      <td>3</td>\n",
              "      <td>0.377435</td>\n",
              "      <td>239</td>\n",
              "    </tr>\n",
              "    <tr>\n",
              "      <th>996</th>\n",
              "      <td>1</td>\n",
              "      <td>0.431152</td>\n",
              "      <td>154</td>\n",
              "    </tr>\n",
              "    <tr>\n",
              "      <th>997</th>\n",
              "      <td>3</td>\n",
              "      <td>0.647102</td>\n",
              "      <td>206</td>\n",
              "    </tr>\n",
              "    <tr>\n",
              "      <th>998</th>\n",
              "      <td>2</td>\n",
              "      <td>0.304813</td>\n",
              "      <td>241</td>\n",
              "    </tr>\n",
              "    <tr>\n",
              "      <th>999</th>\n",
              "      <td>1</td>\n",
              "      <td>0.940510</td>\n",
              "      <td>159</td>\n",
              "    </tr>\n",
              "  </tbody>\n",
              "</table>\n",
              "<p>1000 rows × 3 columns</p>\n",
              "</div>"
            ],
            "text/plain": [
              "     Years_at_Company  Satisfaction_Level  Average_Monthly_Hours\n",
              "0                   9            0.586251                    151\n",
              "1                  10            0.261161                    221\n",
              "2                   8            0.304382                    184\n",
              "3                   1            0.480779                    242\n",
              "4                  10            0.636244                    229\n",
              "..                ...                 ...                    ...\n",
              "995                 3            0.377435                    239\n",
              "996                 1            0.431152                    154\n",
              "997                 3            0.647102                    206\n",
              "998                 2            0.304813                    241\n",
              "999                 1            0.940510                    159\n",
              "\n",
              "[1000 rows x 3 columns]"
            ]
          },
          "execution_count": 20,
          "metadata": {},
          "output_type": "execute_result"
        }
      ],
      "source": [
        "x"
      ]
    },
    {
      "cell_type": "code",
      "execution_count": 21,
      "metadata": {
        "id": "9OkOpK9shs_F"
      },
      "outputs": [],
      "source": [
        "from sklearn.preprocessing import StandardScaler\n",
        "sc = StandardScaler()\n",
        "X_train = sc.fit_transform(X_train)\n"
      ]
    },
    {
      "cell_type": "code",
      "execution_count": 22,
      "metadata": {
        "colab": {
          "base_uri": "https://localhost:8080/"
        },
        "id": "hMlR4cStiDZ7",
        "outputId": "ff220d3c-e589-4ca7-d050-338231d68a08"
      },
      "outputs": [
        {
          "data": {
            "text/plain": [
              "array([[ 0.48992336, -0.89029166, -1.55595468],\n",
              "       [ 0.13618808,  1.05057098,  0.98738451],\n",
              "       [ 1.19739392,  0.41390815, -0.15042513],\n",
              "       ...,\n",
              "       [ 0.48992336, -1.49841473, -1.05397984],\n",
              "       [-1.63248831,  0.86225592,  1.42242937],\n",
              "       [-0.2175472 ,  0.58439944,  1.52282434]])"
            ]
          },
          "execution_count": 22,
          "metadata": {},
          "output_type": "execute_result"
        }
      ],
      "source": [
        "X_train"
      ]
    },
    {
      "cell_type": "code",
      "execution_count": 23,
      "metadata": {
        "colab": {
          "base_uri": "https://localhost:8080/"
        },
        "id": "OHWwViPYuE6_",
        "outputId": "dc3c8b22-5996-4dd2-9f36-752bde05a575"
      },
      "outputs": [
        {
          "data": {
            "text/plain": [
              "['scaler.pkl']"
            ]
          },
          "execution_count": 23,
          "metadata": {},
          "output_type": "execute_result"
        }
      ],
      "source": [
        "import joblib\n",
        "joblib.dump(sc,\"scaler.pkl\")"
      ]
    },
    {
      "cell_type": "code",
      "execution_count": 24,
      "metadata": {
        "id": "4cll7TMyjf9F"
      },
      "outputs": [],
      "source": [
        "X_test = sc.transform(X_test)"
      ]
    },
    {
      "cell_type": "code",
      "execution_count": 25,
      "metadata": {
        "colab": {
          "base_uri": "https://localhost:8080/"
        },
        "id": "o-inwp0mjoVb",
        "outputId": "53f55fcf-1e33-445f-91d3-3646e65c453f"
      },
      "outputs": [
        {
          "data": {
            "text/plain": [
              "array([[-1.27875304, -1.48094071,  1.12124447],\n",
              "       [ 1.5511292 , -0.22711519, -1.15437481],\n",
              "       [-1.63248831,  1.25667713,  0.55233965],\n",
              "       [-0.57128248,  1.26117676, -0.88665489],\n",
              "       [ 1.19739392, -0.25762933,  1.58975432],\n",
              "       [ 0.48992336,  1.55758444, -0.45161003],\n",
              "       [ 0.48992336, -0.49056708, -0.35121506],\n",
              "       [-1.27875304,  0.69769186, -1.65634965],\n",
              "       [-0.92501776,  1.3376065 ,  0.58580464],\n",
              "       [-1.63248831,  1.41945374, -0.88665489],\n",
              "       [ 1.19739392,  0.63866559, -1.15437481],\n",
              "       [-0.57128248, -1.28919535,  1.45589436],\n",
              "       [-1.27875304, -1.44596506,  0.3850147 ],\n",
              "       [ 0.13618808,  0.8733874 ,  1.0208495 ],\n",
              "       [ 0.48992336,  1.67061528, -1.32169975],\n",
              "       [-1.27875304,  1.36943678, -0.78625992],\n",
              "       [ 0.84365864,  0.95184813, -0.552005  ],\n",
              "       [-1.63248831,  1.41951398,  1.6566843 ],\n",
              "       [-0.92501776,  0.43976072,  0.68619961],\n",
              "       [ 1.19739392,  0.36354947, -1.58941967],\n",
              "       [-0.92501776, -1.58204893,  0.88698954],\n",
              "       [-0.92501776, -0.27279245,  1.55628933],\n",
              "       [ 1.5511292 ,  0.98428362,  1.22163944],\n",
              "       [ 0.48992336,  0.13037867,  0.45194468],\n",
              "       [ 1.5511292 ,  1.28848701,  1.25510443],\n",
              "       [ 0.48992336, -0.98344864, -0.68586496],\n",
              "       [ 0.84365864, -0.90468291, -0.95358487],\n",
              "       [ 1.5511292 , -0.13907656, -1.4890247 ],\n",
              "       [ 0.84365864, -0.2595013 ,  1.08777948],\n",
              "       [-1.63248831,  0.46444831,  1.38896438],\n",
              "       [-1.63248831, -0.90862349, -0.65239997],\n",
              "       [-0.92501776,  1.22518557, -1.58941967],\n",
              "       [ 1.5511292 , -0.09850301, -1.22130479],\n",
              "       [ 1.5511292 , -1.43041339, -0.45161003],\n",
              "       [-1.27875304,  1.53429146,  0.95391952],\n",
              "       [ 0.13618808,  1.55666917,  0.78659457],\n",
              "       [-0.57128248, -1.19005075, -1.65634965],\n",
              "       [-1.27875304,  1.027482  , -0.21735511],\n",
              "       [ 1.19739392,  0.41899075,  0.55233965],\n",
              "       [-0.57128248,  0.14079037, -0.51854001],\n",
              "       [ 0.13618808,  0.46940039,  1.25510443],\n",
              "       [ 0.13618808, -0.30072528,  0.95391952],\n",
              "       [-0.92501776, -1.13897492, -0.98704986],\n",
              "       [ 1.19739392, -0.66176316,  0.55233965],\n",
              "       [-0.92501776,  0.28767554,  0.65273462],\n",
              "       [ 0.13618808, -0.12602412, -1.15437481],\n",
              "       [-0.57128248, -1.61034308, -0.48507502],\n",
              "       [-0.2175472 ,  1.03505772,  0.3850147 ],\n",
              "       [ 1.19739392, -0.75506922, -0.552005  ],\n",
              "       [ 0.13618808, -0.23272512,  1.62321931],\n",
              "       [ 1.19739392,  0.60276955, -1.62288466],\n",
              "       [-0.92501776,  1.03452553, -0.81972491],\n",
              "       [-0.57128248,  0.83052778, -1.42209472],\n",
              "       [-0.57128248,  0.44065549, -0.45161003],\n",
              "       [ 1.5511292 ,  1.37877967, -0.71932995],\n",
              "       [-1.27875304, -0.08543186,  0.98738451],\n",
              "       [-0.92501776,  0.37530622,  0.21768976],\n",
              "       [ 1.19739392,  0.66514031, -1.02051485],\n",
              "       [-0.57128248,  0.09205445, -1.08744483],\n",
              "       [ 0.48992336,  1.04530272, -0.41814504],\n",
              "       [ 0.84365864,  1.2422997 , -0.45161003],\n",
              "       [-0.2175472 ,  0.40282047,  0.15075978],\n",
              "       [ 0.48992336, -0.94946018,  0.98738451],\n",
              "       [ 0.84365864, -0.58599907, -0.88665489],\n",
              "       [ 0.84365864,  0.79014907,  1.12124447],\n",
              "       [-0.92501776,  0.24124226, -0.28428508],\n",
              "       [-0.2175472 ,  0.30166674,  1.22163944],\n",
              "       [-0.92501776, -0.48054248,  1.45589436],\n",
              "       [-1.27875304, -0.76543354,  0.51887466],\n",
              "       [ 0.84365864, -1.24624169,  1.18817445],\n",
              "       [ 0.13618808, -0.90791848,  1.25510443],\n",
              "       [ 1.5511292 , -0.07582198,  0.18422477],\n",
              "       [-0.92501776,  1.62262542, -0.2508201 ],\n",
              "       [ 0.48992336,  0.72726473,  0.7196646 ],\n",
              "       [ 1.5511292 ,  1.08810951,  0.92045453],\n",
              "       [ 1.19739392,  1.19629002,  0.0838298 ],\n",
              "       [ 1.19739392, -1.68094874, -0.71932995],\n",
              "       [-0.57128248, -1.22549386,  0.88698954],\n",
              "       [ 0.13618808,  0.95502375, -0.92011988],\n",
              "       [-1.63248831, -0.08272624,  0.15075978],\n",
              "       [-1.27875304,  1.17861774, -1.4890247 ],\n",
              "       [ 0.48992336,  1.49774076,  0.3850147 ],\n",
              "       [ 1.5511292 , -1.38304029, -1.25476978],\n",
              "       [-1.27875304, -0.87457964,  1.45589436],\n",
              "       [-0.2175472 , -0.45201113,  1.42242937],\n",
              "       [-0.57128248,  0.65048002, -0.61893498],\n",
              "       [-0.2175472 , -1.1971734 , -1.12090982],\n",
              "       [ 0.48992336, -0.25267504,  0.31808472],\n",
              "       [-0.92501776,  1.46938514, -0.15042513],\n",
              "       [ 1.19739392, -0.59845589, -0.65239997],\n",
              "       [ 0.13618808, -0.60159885,  0.3850147 ],\n",
              "       [ 0.48992336, -0.06812077, -1.28823476],\n",
              "       [ 0.48992336,  0.47773712, -0.18389012],\n",
              "       [ 1.19739392, -1.15876629, -1.52248969],\n",
              "       [-1.63248831, -1.01144311,  0.61926963],\n",
              "       [-0.2175472 ,  0.60131796,  0.35154971],\n",
              "       [ 0.13618808, -0.4590305 , -0.8531899 ],\n",
              "       [-1.63248831, -0.76476219, -0.45161003],\n",
              "       [ 0.13618808,  1.28566718, -0.58546999],\n",
              "       [-1.27875304, -0.38223607,  0.21768976],\n",
              "       [-1.63248831,  1.23240453,  0.61926963],\n",
              "       [ 0.84365864, -1.45394745,  0.85352455],\n",
              "       [-0.57128248,  1.43798256, -1.32169975],\n",
              "       [-1.27875304, -0.36184708,  0.98738451],\n",
              "       [-0.2175472 , -0.61580187,  0.98738451],\n",
              "       [ 0.48992336,  0.21227403, -0.92011988],\n",
              "       [ 1.19739392,  1.38387213,  0.95391952],\n",
              "       [-0.2175472 , -0.76171992, -1.15437481],\n",
              "       [-0.2175472 ,  1.47407528, -0.21735511],\n",
              "       [ 0.48992336, -0.14523534,  0.25115474],\n",
              "       [-0.2175472 ,  0.41331813, -1.52248969],\n",
              "       [ 0.13618808, -0.36325268,  1.35549939],\n",
              "       [ 0.48992336, -0.53487193, -0.18389012],\n",
              "       [ 0.48992336,  0.91320208,  1.55628933],\n",
              "       [ 0.13618808,  1.08583589,  1.0208495 ],\n",
              "       [-0.2175472 , -0.00409085,  0.45194468],\n",
              "       [-1.27875304,  1.64768769, -0.98704986],\n",
              "       [-0.92501776, -0.75080697,  1.45589436],\n",
              "       [ 0.84365864, -1.58803581, -0.98704986],\n",
              "       [ 1.5511292 , -1.1920764 , -0.88665489],\n",
              "       [-0.92501776, -0.3982528 ,  0.15075978],\n",
              "       [ 1.5511292 , -1.09872146, -1.65634965],\n",
              "       [-0.2175472 ,  0.53149726, -1.08744483],\n",
              "       [-0.2175472 ,  1.70452285, -1.35516474],\n",
              "       [ 0.48992336, -1.20114642,  1.12124447],\n",
              "       [ 1.5511292 , -0.5037794 ,  0.25115474],\n",
              "       [-1.27875304,  1.53141387,  0.48540967],\n",
              "       [ 1.19739392, -0.84434472,  1.45589436],\n",
              "       [-0.92501776,  1.37767371, -0.65239997],\n",
              "       [-0.92501776,  1.1781349 ,  0.55233965],\n",
              "       [ 0.48992336,  1.57446095,  1.58975432],\n",
              "       [-1.27875304, -0.99378387, -0.18389012],\n",
              "       [ 1.19739392,  0.65567755,  0.05036481],\n",
              "       [ 1.5511292 ,  0.51229436, -0.92011988],\n",
              "       [ 0.84365864, -0.16554613,  0.7196646 ],\n",
              "       [-0.2175472 , -1.13888229,  0.55233965],\n",
              "       [-0.2175472 ,  0.84243587,  0.7196646 ],\n",
              "       [ 0.13618808, -0.12352046,  0.85352455],\n",
              "       [ 0.48992336,  0.23023697,  0.0838298 ],\n",
              "       [-0.2175472 ,  0.47447306,  0.51887466],\n",
              "       [ 1.19739392, -1.03351898, -1.35516474],\n",
              "       [ 1.19739392,  1.34430082,  1.52282434],\n",
              "       [-1.27875304,  0.00912926, -0.01656517],\n",
              "       [ 1.19739392, -0.16086641,  0.11729479],\n",
              "       [-1.63248831, -0.73263873, -1.45555971],\n",
              "       [ 0.84365864, -0.81679138,  0.68619961],\n",
              "       [ 1.19739392, -0.09434117, -0.58546999],\n",
              "       [ 1.5511292 ,  0.28924655, -1.62288466],\n",
              "       [-1.63248831, -0.45933368, -1.02051485],\n",
              "       [-0.2175472 ,  0.04197125, -1.35516474],\n",
              "       [ 0.13618808, -1.27905122, -0.552005  ],\n",
              "       [-0.2175472 ,  0.92066065, -0.88665489],\n",
              "       [-1.63248831, -0.60933494, -0.51854001],\n",
              "       [ 0.13618808, -1.34639696,  0.85352455],\n",
              "       [ 1.19739392, -0.09482287,  0.55233965],\n",
              "       [ 0.48992336, -0.11977477,  1.35549939],\n",
              "       [-0.57128248,  0.68626211, -0.18389012],\n",
              "       [-0.92501776,  0.59970389, -0.78625992],\n",
              "       [-1.63248831,  0.33292632,  0.92045453],\n",
              "       [ 1.5511292 , -0.49654586,  0.11729479],\n",
              "       [-0.92501776, -0.38595332,  0.58580464],\n",
              "       [-0.92501776,  1.59773168,  1.08777948],\n",
              "       [ 0.84365864,  0.5085287 , -1.28823476],\n",
              "       [-0.57128248,  1.21672345, -0.11696014],\n",
              "       [ 0.84365864,  1.2635835 , -0.8531899 ],\n",
              "       [-0.2175472 ,  0.98902773, -1.45555971],\n",
              "       [ 1.19739392,  1.39184526, -1.22130479],\n",
              "       [-1.63248831, -1.67933915,  0.48540967],\n",
              "       [ 1.19739392, -0.98369092, -1.25476978],\n",
              "       [ 0.13618808, -0.66571548, -1.45555971],\n",
              "       [ 0.13618808,  0.19102748, -1.08744483],\n",
              "       [-1.63248831, -0.06728244,  1.42242937],\n",
              "       [-0.2175472 ,  0.08642054,  0.45194468],\n",
              "       [-0.57128248,  0.30286095,  0.51887466],\n",
              "       [-0.2175472 , -0.01374238, -0.31775007],\n",
              "       [ 0.48992336, -0.5013969 , -0.38468005],\n",
              "       [-0.57128248,  0.85739457,  1.3220344 ],\n",
              "       [-1.27875304, -1.51588996,  0.7196646 ],\n",
              "       [-0.57128248, -0.09657989, -1.4890247 ],\n",
              "       [-0.2175472 , -1.2278463 ,  0.55233965],\n",
              "       [-0.57128248,  1.60062544,  0.41847969],\n",
              "       [-0.2175472 ,  1.17387443,  0.65273462],\n",
              "       [ 1.19739392,  0.19798651, -0.58546999],\n",
              "       [-0.57128248, -0.05838478, -0.01656517],\n",
              "       [-1.27875304, -0.76257508,  0.68619961],\n",
              "       [-1.63248831,  0.41157371,  0.55233965],\n",
              "       [ 1.19739392, -0.41019917, -0.88665489],\n",
              "       [ 1.19739392, -0.99173447,  0.55233965],\n",
              "       [-1.63248831,  0.57894862,  1.18817445],\n",
              "       [ 0.84365864, -0.89378598,  0.78659457],\n",
              "       [ 0.13618808,  1.24995368,  0.61926963],\n",
              "       [ 1.19739392,  1.44480014, -1.38862973],\n",
              "       [ 1.19739392, -0.628514  ,  1.0208495 ],\n",
              "       [-0.92501776, -0.4023328 ,  0.75312959],\n",
              "       [ 1.19739392, -1.09098175,  0.48540967],\n",
              "       [-1.27875304,  0.73858808, -0.88665489],\n",
              "       [ 0.13618808,  1.63251506,  0.68619961],\n",
              "       [-0.2175472 , -0.68967338, -0.41814504],\n",
              "       [-0.2175472 , -0.96596104, -0.41814504],\n",
              "       [ 0.48992336, -0.72547273,  1.38896438]])"
            ]
          },
          "execution_count": 25,
          "metadata": {},
          "output_type": "execute_result"
        }
      ],
      "source": [
        "X_test"
      ]
    },
    {
      "cell_type": "code",
      "execution_count": 26,
      "metadata": {
        "id": "bsKby-nHkQyn"
      },
      "outputs": [],
      "source": [
        "import numpy as np\n",
        "from sklearn.metrics import mean_squared_error,mean_absolute_error\n",
        "\n",
        "def results(predictions):\n",
        "  print(\"Mean absolute error on model is{}\",format(mean_absolute_error(y_test,predictions)))\n",
        "  print(\"Root maen squared error on model is{}\",format(np.sqrt(mean_squared_error(y_test,predictions))))"
      ]
    },
    {
      "cell_type": "code",
      "execution_count": 27,
      "metadata": {
        "colab": {
          "base_uri": "https://localhost:8080/",
          "height": 80
        },
        "id": "b3KohViGlFSP",
        "outputId": "58d0ca62-d154-44e8-fa35-98a43856199d"
      },
      "outputs": [
        {
          "data": {
            "text/plain": [
              "LinearRegression()"
            ]
          },
          "execution_count": 27,
          "metadata": {},
          "output_type": "execute_result"
        }
      ],
      "source": [
        "from sklearn.linear_model import LinearRegression\n",
        "lr = LinearRegression()\n",
        "lr.fit(X_train,y_train)"
      ]
    },
    {
      "cell_type": "code",
      "execution_count": 28,
      "metadata": {
        "id": "2-SaJgjZlTQU"
      },
      "outputs": [],
      "source": [
        "predictionlr = lr.predict(X_test)"
      ]
    },
    {
      "cell_type": "code",
      "execution_count": 29,
      "metadata": {
        "colab": {
          "base_uri": "https://localhost:8080/"
        },
        "id": "TcB0QsjDlbB5",
        "outputId": "c821a675-f9f1-41c7-cb4d-ec3c2c395a9d"
      },
      "outputs": [
        {
          "name": "stdout",
          "output_type": "stream",
          "text": [
            "Mean absolute error on model is{} 17560.852990121526\n",
            "Root maen squared error on model is{} 20596.642405826708\n"
          ]
        }
      ],
      "source": [
        "results(predictionlr)"
      ]
    },
    {
      "cell_type": "code",
      "execution_count": 30,
      "metadata": {
        "id": "ryjg2LgaxQg6"
      },
      "outputs": [],
      "source": [
        "from sklearn.model_selection import GridSearchCV\n",
        "from sklearn.svm import SVR\n",
        "\n",
        "svrmodel = SVR()"
      ]
    },
    {
      "cell_type": "code",
      "execution_count": 31,
      "metadata": {
        "id": "IwbVVWKxyF7E"
      },
      "outputs": [],
      "source": [
        "param_gridsvr = {\n",
        "    'C': [0.1, 1, 10],\n",
        "    'kernel': ['linear','poly', 'rbf'],\n",
        "    'degree':[2,3,4]\n",
        "}\n"
      ]
    },
    {
      "cell_type": "code",
      "execution_count": 32,
      "metadata": {
        "id": "nTzScLvUzok0"
      },
      "outputs": [],
      "source": [
        "gridsvr = GridSearchCV(svrmodel,param_gridsvr)"
      ]
    },
    {
      "cell_type": "code",
      "execution_count": 33,
      "metadata": {
        "colab": {
          "base_uri": "https://localhost:8080/",
          "height": 252
        },
        "id": "ydWQFP3iz8qe",
        "outputId": "4ebf1eb7-e0b3-4bb9-a5aa-8c576a6fbd3b"
      },
      "outputs": [
        {
          "data": {
            "text/plain": [
              "GridSearchCV(estimator=SVR(),\n",
              "             param_grid={'C': [0.1, 1, 10], 'degree': [2, 3, 4],\n",
              "                         'kernel': ['linear', 'poly', 'rbf']})"
            ]
          },
          "execution_count": 33,
          "metadata": {},
          "output_type": "execute_result"
        }
      ],
      "source": [
        "gridsvr.fit(X_train,y_train.values.ravel())"
      ]
    },
    {
      "cell_type": "code",
      "execution_count": 34,
      "metadata": {
        "colab": {
          "base_uri": "https://localhost:8080/"
        },
        "id": "i7esYAqmIMmE",
        "outputId": "208bae92-436c-495f-bf54-5aa3b48b6e3f"
      },
      "outputs": [
        {
          "data": {
            "text/plain": [
              "{'C': 1, 'degree': 2, 'kernel': 'linear'}"
            ]
          },
          "execution_count": 34,
          "metadata": {},
          "output_type": "execute_result"
        }
      ],
      "source": [
        "gridsvr.best_params_\n"
      ]
    },
    {
      "cell_type": "code",
      "execution_count": 35,
      "metadata": {
        "id": "sMTB3g_VLnCq"
      },
      "outputs": [],
      "source": [
        "predictionssvr = gridsvr.predict(X_test)"
      ]
    },
    {
      "cell_type": "code",
      "execution_count": 36,
      "metadata": {
        "colab": {
          "base_uri": "https://localhost:8080/"
        },
        "id": "A4rM4HC9L0sJ",
        "outputId": "58ecceb8-a7e0-40fb-943f-d13b609f8857"
      },
      "outputs": [
        {
          "name": "stdout",
          "output_type": "stream",
          "text": [
            "Mean absolute error on model is{} 17585.86237790023\n",
            "Root maen squared error on model is{} 20587.65387259919\n"
          ]
        }
      ],
      "source": [
        "results(predictionssvr)\n"
      ]
    },
    {
      "cell_type": "code",
      "execution_count": 37,
      "metadata": {
        "id": "MaTi9md1MLiw"
      },
      "outputs": [],
      "source": [
        "from sklearn.ensemble import RandomForestRegressor\n",
        "from sklearn.model_selection import GridSearchCV\n",
        "rfmodel = RandomForestRegressor()\n",
        "\n",
        "param_gridrfr = {\n",
        "    'n_estimators': [2,3,4,5,6,],\n",
        "    'max_depth': [5,10,15],\n",
        "}"
      ]
    },
    {
      "cell_type": "code",
      "execution_count": 38,
      "metadata": {
        "id": "053RqPf_MY-r"
      },
      "outputs": [],
      "source": [
        "gridrfr = GridSearchCV(estimator=rfmodel,param_grid=param_gridrfr,cv=5)\n"
      ]
    },
    {
      "cell_type": "code",
      "execution_count": 39,
      "metadata": {
        "colab": {
          "base_uri": "https://localhost:8080/",
          "height": 252
        },
        "id": "sCuBcbfiPrkH",
        "outputId": "0739841f-7e12-4eda-bb38-8b37e0612fa9"
      },
      "outputs": [
        {
          "data": {
            "text/plain": [
              "GridSearchCV(cv=5, estimator=RandomForestRegressor(),\n",
              "             param_grid={'max_depth': [5, 10, 15],\n",
              "                         'n_estimators': [2, 3, 4, 5, 6]})"
            ]
          },
          "execution_count": 39,
          "metadata": {},
          "output_type": "execute_result"
        }
      ],
      "source": [
        "gridrfr.fit(X_train,y_train.values.ravel())"
      ]
    },
    {
      "cell_type": "code",
      "execution_count": 40,
      "metadata": {
        "colab": {
          "base_uri": "https://localhost:8080/"
        },
        "id": "zbS5WgNLR1OJ",
        "outputId": "022b0712-b225-435a-8eb1-068b897cd15c"
      },
      "outputs": [
        {
          "data": {
            "text/plain": [
              "{'max_depth': 5, 'n_estimators': 5}"
            ]
          },
          "execution_count": 40,
          "metadata": {},
          "output_type": "execute_result"
        }
      ],
      "source": [
        "gridrfr.best_params_"
      ]
    },
    {
      "cell_type": "code",
      "execution_count": 41,
      "metadata": {
        "colab": {
          "base_uri": "https://localhost:8080/"
        },
        "id": "7AdXZxD7RvGg",
        "outputId": "f0fa33ef-0a09-4120-8fd9-f4a2dcb0d3af"
      },
      "outputs": [
        {
          "name": "stdout",
          "output_type": "stream",
          "text": [
            "Mean absolute error on model is{} 17485.399385594246\n",
            "Root maen squared error on model is{} 20885.233230095517\n"
          ]
        }
      ],
      "source": [
        "predictionofrfr = gridrfr.predict(X_test)\n",
        "results(predictionofrfr)"
      ]
    },
    {
      "cell_type": "code",
      "execution_count": 42,
      "metadata": {
        "colab": {
          "base_uri": "https://localhost:8080/",
          "height": 80
        },
        "id": "woQsCpRlSFYU",
        "outputId": "e0a59977-a2e3-49f6-a6c8-37bd94ea5665"
      },
      "outputs": [
        {
          "data": {
            "text/plain": [
              "LinearRegression()"
            ]
          },
          "execution_count": 42,
          "metadata": {},
          "output_type": "execute_result"
        }
      ],
      "source": [
        "lr"
      ]
    },
    {
      "cell_type": "code",
      "execution_count": 43,
      "metadata": {
        "colab": {
          "base_uri": "https://localhost:8080/"
        },
        "id": "1AICrninS0ga",
        "outputId": "3f490089-4d9c-4295-801f-b6b774d2ca6f"
      },
      "outputs": [
        {
          "data": {
            "text/plain": [
              "['model.pkl']"
            ]
          },
          "execution_count": 43,
          "metadata": {},
          "output_type": "execute_result"
        }
      ],
      "source": [
        "joblib.dump(lr, 'model.pkl')"
      ]
    },
    {
      "cell_type": "code",
      "execution_count": 44,
      "metadata": {
        "colab": {
          "base_uri": "https://localhost:8080/"
        },
        "id": "GLWtExScUwQo",
        "outputId": "99330046-eb6c-408b-cac9-fbace4e1e405"
      },
      "outputs": [
        {
          "data": {
            "text/plain": [
              "Index(['Years_at_Company', 'Satisfaction_Level', 'Average_Monthly_Hours'], dtype='object')"
            ]
          },
          "execution_count": 44,
          "metadata": {},
          "output_type": "execute_result"
        }
      ],
      "source": [
        "x.columns"
      ]
    }
  ],
  "metadata": {
    "colab": {
      "provenance": []
    },
    "kernelspec": {
      "display_name": "base",
      "language": "python",
      "name": "python3"
    },
    "language_info": {
      "codemirror_mode": {
        "name": "ipython",
        "version": 3
      },
      "file_extension": ".py",
      "mimetype": "text/x-python",
      "name": "python",
      "nbconvert_exporter": "python",
      "pygments_lexer": "ipython3",
      "version": "3.9.13"
    }
  },
  "nbformat": 4,
  "nbformat_minor": 0
}
